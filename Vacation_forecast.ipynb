{
 "cells": [
  {
   "cell_type": "markdown",
   "metadata": {},
   "source": [
    "# Vacation-planning weather analysis"
   ]
  },
  {
   "cell_type": "code",
   "execution_count": 3,
   "metadata": {},
   "outputs": [],
   "source": [
    "# Import all dependencies and styles needed for notebook.\n",
    "\n",
    "# Set Jupyter Notebook to display plots inline.\n",
    "%matplotlib inline\n",
    "\n",
    "# Import dependencies.\n",
    "from matplotlib import style\n",
    "import matplotlib.pyplot as plt\n",
    "import matplotlib.dates as mdates\n",
    "import numpy as np\n",
    "import pandas as pd\n",
    "import datetime as dt\n",
    "from datetime import datetime, timedelta\n",
    "import sqlalchemy\n",
    "from sqlalchemy.ext.automap import automap_base\n",
    "from sqlalchemy.orm import Session\n",
    "from sqlalchemy import create_engine, func, inspect\n",
    "\n",
    "# Use fancy matplotlib style for plots.\n",
    "style.use('fivethirtyeight')"
   ]
  },
  {
   "cell_type": "markdown",
   "metadata": {},
   "source": [
    "# Use Sqlalchemy library (ORM) to read sqlite database into Python object"
   ]
  },
  {
   "cell_type": "code",
   "execution_count": 4,
   "metadata": {
    "scrolled": true
   },
   "outputs": [
    {
     "name": "stdout",
     "output_type": "stream",
     "text": [
      "measurement\n",
      "{'name': 'id', 'type': INTEGER(), 'nullable': False, 'default': None, 'autoincrement': 'auto', 'primary_key': 1}\n",
      "{'name': 'station', 'type': TEXT(), 'nullable': True, 'default': None, 'autoincrement': 'auto', 'primary_key': 0}\n",
      "{'name': 'date', 'type': TEXT(), 'nullable': True, 'default': None, 'autoincrement': 'auto', 'primary_key': 0}\n",
      "{'name': 'prcp', 'type': FLOAT(), 'nullable': True, 'default': None, 'autoincrement': 'auto', 'primary_key': 0}\n",
      "{'name': 'tobs', 'type': FLOAT(), 'nullable': True, 'default': None, 'autoincrement': 'auto', 'primary_key': 0}\n",
      "station\n",
      "{'name': 'id', 'type': INTEGER(), 'nullable': False, 'default': None, 'autoincrement': 'auto', 'primary_key': 1}\n",
      "{'name': 'station', 'type': TEXT(), 'nullable': True, 'default': None, 'autoincrement': 'auto', 'primary_key': 0}\n",
      "{'name': 'name', 'type': TEXT(), 'nullable': True, 'default': None, 'autoincrement': 'auto', 'primary_key': 0}\n",
      "{'name': 'latitude', 'type': FLOAT(), 'nullable': True, 'default': None, 'autoincrement': 'auto', 'primary_key': 0}\n",
      "{'name': 'longitude', 'type': FLOAT(), 'nullable': True, 'default': None, 'autoincrement': 'auto', 'primary_key': 0}\n",
      "{'name': 'elevation', 'type': FLOAT(), 'nullable': True, 'default': None, 'autoincrement': 'auto', 'primary_key': 0}\n"
     ]
    }
   ],
   "source": [
    "# Create db engine for sqlite db.\n",
    "engine = create_engine(\"sqlite:///Resources/hawaii.sqlite\")\n",
    "\n",
    "# Create inspector object to view tables and columns in sqlite db.\n",
    "inspector = inspect(engine)\n",
    "\n",
    "# Use inspector object to print all table names and column schemas.\n",
    "tables = inspector.get_table_names()\n",
    "for t in tables:\n",
    "    # Print table name.\n",
    "    print(t)\n",
    "    # Get all schema info for each column.\n",
    "    column_info = inspector.get_columns(t)\n",
    "    # For each column, print out schema info.\n",
    "    for x in column_info:\n",
    "        print(x)"
   ]
  },
  {
   "cell_type": "code",
   "execution_count": 5,
   "metadata": {},
   "outputs": [],
   "source": [
    "# Start SQLAlchemy query session for precipitation analysis.\n",
    "session = Session(engine)\n",
    "\n",
    "# Create Pandas connection for June vs. December analysis.\n",
    "conn = engine.connect()"
   ]
  },
  {
   "cell_type": "code",
   "execution_count": 6,
   "metadata": {},
   "outputs": [],
   "source": [
    "# Create class references to work with tables.\n",
    "\n",
    "# Read (reflect) sqlite db into SQLAlchemy Base object.\n",
    "Base = automap_base()\n",
    "Base.prepare(engine, reflect = True)\n",
    "\n",
    "# Create reference to each table in Base.\n",
    "Station = Base.classes.station\n",
    "Measurement = Base.classes.measurement"
   ]
  },
  {
   "cell_type": "markdown",
   "metadata": {},
   "source": [
    "\n",
    "# Exploratory Climate Analysis\n",
    "## Precipitation analysis: 12 months of precipitation data"
   ]
  },
  {
   "cell_type": "code",
   "execution_count": 7,
   "metadata": {},
   "outputs": [
    {
     "data": {
      "text/plain": [
       "[(0.08), (0.0), (0.0), (0.0), (None)]"
      ]
     },
     "execution_count": 7,
     "metadata": {},
     "output_type": "execute_result"
    }
   ],
   "source": [
    "# View first 5 records from prcp column\n",
    "result = session.query(Measurement.prcp).limit(5).all()\n",
    "result"
   ]
  },
  {
   "cell_type": "code",
   "execution_count": 8,
   "metadata": {
    "scrolled": true
   },
   "outputs": [
    {
     "data": {
      "text/plain": [
       "[('2010-01-01'),\n",
       " ('2010-01-02'),\n",
       " ('2010-01-03'),\n",
       " ('2010-01-04'),\n",
       " ('2010-01-06')]"
      ]
     },
     "execution_count": 8,
     "metadata": {},
     "output_type": "execute_result"
    }
   ],
   "source": [
    "# View first 5 records from date column.\n",
    "result = session.query(Measurement.date).limit(5).all()\n",
    "result"
   ]
  },
  {
   "cell_type": "code",
   "execution_count": 9,
   "metadata": {},
   "outputs": [
    {
     "name": "stdout",
     "output_type": "stream",
     "text": [
      "Last date in dataset: ('2017-08-23',)\n",
      "One year before last date: 2016-08-23 00:00:00\n"
     ]
    }
   ],
   "source": [
    "# Compute date one year before last date present in database.\n",
    "\n",
    "# Query last date in database.\n",
    "last_date = session.query(Measurement.date).order_by(Measurement.date.desc()).first()\n",
    "\n",
    "# Print last_date\n",
    "print(\"Last date in dataset: \" + str(last_date))\n",
    "\n",
    "# ('2017-08-23',) looks like a tuple of strings...\n",
    "\n",
    "# Index into last_date.\n",
    "last_date_string = last_date[0]\n",
    "\n",
    "# Format string as datetime object.\n",
    "format_str = '%Y-%m-%d'\n",
    "datetime_obj = dt.datetime.strptime(last_date_string, format_str)\n",
    "\n",
    "# Subtract 365 years from datetime object.\n",
    "year_ago = datetime_obj - dt.timedelta(days = 365)\n",
    "print(\"One year before last date: \" + str(year_ago))"
   ]
  },
  {
   "cell_type": "code",
   "execution_count": 10,
   "metadata": {
    "scrolled": false
   },
   "outputs": [
    {
     "data": {
      "text/html": [
       "<div>\n",
       "<style scoped>\n",
       "    .dataframe tbody tr th:only-of-type {\n",
       "        vertical-align: middle;\n",
       "    }\n",
       "\n",
       "    .dataframe tbody tr th {\n",
       "        vertical-align: top;\n",
       "    }\n",
       "\n",
       "    .dataframe thead th {\n",
       "        text-align: right;\n",
       "    }\n",
       "</style>\n",
       "<table border=\"1\" class=\"dataframe\">\n",
       "  <thead>\n",
       "    <tr style=\"text-align: right;\">\n",
       "      <th></th>\n",
       "      <th>Date</th>\n",
       "      <th>Precip_avg</th>\n",
       "    </tr>\n",
       "  </thead>\n",
       "  <tbody>\n",
       "    <tr>\n",
       "      <th>0</th>\n",
       "      <td>2016-08-24</td>\n",
       "      <td>1.555000</td>\n",
       "    </tr>\n",
       "    <tr>\n",
       "      <th>1</th>\n",
       "      <td>2016-08-25</td>\n",
       "      <td>0.077143</td>\n",
       "    </tr>\n",
       "    <tr>\n",
       "      <th>2</th>\n",
       "      <td>2016-08-26</td>\n",
       "      <td>0.016667</td>\n",
       "    </tr>\n",
       "    <tr>\n",
       "      <th>3</th>\n",
       "      <td>2016-08-27</td>\n",
       "      <td>0.064000</td>\n",
       "    </tr>\n",
       "    <tr>\n",
       "      <th>4</th>\n",
       "      <td>2016-08-28</td>\n",
       "      <td>0.516667</td>\n",
       "    </tr>\n",
       "  </tbody>\n",
       "</table>\n",
       "</div>"
      ],
      "text/plain": [
       "         Date  Precip_avg\n",
       "0  2016-08-24    1.555000\n",
       "1  2016-08-25    0.077143\n",
       "2  2016-08-26    0.016667\n",
       "3  2016-08-27    0.064000\n",
       "4  2016-08-28    0.516667"
      ]
     },
     "execution_count": 10,
     "metadata": {},
     "output_type": "execute_result"
    }
   ],
   "source": [
    "# Get average observed precipitation for each day over last year of data.\n",
    "\n",
    "# Getting the same data using ORM instead of read_sql.\n",
    "\n",
    "#Because there are multiple readings per day, group data by day and aggregate to average.\n",
    "results = session.query(func.min(Measurement.date), func.avg(Measurement.prcp)).\\\n",
    "filter(Measurement.date >= year_ago).group_by(Measurement.date)\n",
    "\n",
    "# Parse results into 2 lists.\n",
    "dates = [result[0] for result in results]\n",
    "p_obs = [result[1] for result in results]\n",
    "\n",
    "# Convert list of dictionaries into Pandas DataFrame.\n",
    "precip_df = pd.DataFrame({\"Date\": dates, \"Precip_avg\": p_obs})\n",
    "\n",
    "# Set df index to date column.\n",
    "precip_df.set_index('Date')\n",
    "\n",
    "# Sort df by date.\n",
    "precip_df.sort_index()\n",
    "\n",
    "precip_df.head()"
   ]
  },
  {
   "cell_type": "code",
   "execution_count": 11,
   "metadata": {},
   "outputs": [
    {
     "data": {
      "image/png": "[encoded data removed]",
      "text/plain": [
       "<Figure size 1080x360 with 1 Axes>"
      ]
     },
     "metadata": {},
     "output_type": "display_data"
    }
   ],
   "source": [
    "# Plot precipitation by day for last year of data.\n",
    "\n",
    "# Size figure appropriately.\n",
    "fig, ax = plt.subplots(figsize=(15, 5))\n",
    "\n",
    "# Plot prcp vs. date.\n",
    "plt.bar(precip_df[\"Date\"], precip_df[\"Precip_avg\"])\n",
    "\n",
    "# Title and axis labels\n",
    "plt.title('One Year of Daily Precipitation for Hawaii')\n",
    "plt.xlabel('Date')\n",
    "plt.ylabel('Precipitation (inches)')\n",
    "\n",
    "# Format x-axis tick labels\n",
    "# Shift first label 7 forward to account for data starting on 8/23 and center month label under data.\n",
    "ax.set_xticks(np.arange(23, 388, 30))\n",
    "xticklabels = [\"Sept\", \"Oct\", \"Nov\", \"Dec\", \"Jan\", \"Feb\", \"Mar\", \"Apr\", \"May\", \"June\", \"July\", \"Aug\"]\n",
    "ax.set_xticklabels(xticklabels, rotation = 45)\n",
    "\n",
    "plt.show()"
   ]
  },
  {
   "cell_type": "code",
   "execution_count": 12,
   "metadata": {
    "scrolled": false
   },
   "outputs": [
    {
     "data": {
      "text/html": [
       "<div>\n",
       "<style scoped>\n",
       "    .dataframe tbody tr th:only-of-type {\n",
       "        vertical-align: middle;\n",
       "    }\n",
       "\n",
       "    .dataframe tbody tr th {\n",
       "        vertical-align: top;\n",
       "    }\n",
       "\n",
       "    .dataframe thead th {\n",
       "        text-align: right;\n",
       "    }\n",
       "</style>\n",
       "<table border=\"1\" class=\"dataframe\">\n",
       "  <thead>\n",
       "    <tr style=\"text-align: right;\">\n",
       "      <th></th>\n",
       "      <th>Precip_avg</th>\n",
       "    </tr>\n",
       "  </thead>\n",
       "  <tbody>\n",
       "    <tr>\n",
       "      <th>count</th>\n",
       "      <td>365.000000</td>\n",
       "    </tr>\n",
       "    <tr>\n",
       "      <th>mean</th>\n",
       "      <td>0.169987</td>\n",
       "    </tr>\n",
       "    <tr>\n",
       "      <th>std</th>\n",
       "      <td>0.295722</td>\n",
       "    </tr>\n",
       "    <tr>\n",
       "      <th>min</th>\n",
       "      <td>0.000000</td>\n",
       "    </tr>\n",
       "    <tr>\n",
       "      <th>25%</th>\n",
       "      <td>0.008571</td>\n",
       "    </tr>\n",
       "    <tr>\n",
       "      <th>50%</th>\n",
       "      <td>0.070000</td>\n",
       "    </tr>\n",
       "    <tr>\n",
       "      <th>75%</th>\n",
       "      <td>0.191667</td>\n",
       "    </tr>\n",
       "    <tr>\n",
       "      <th>max</th>\n",
       "      <td>2.380000</td>\n",
       "    </tr>\n",
       "  </tbody>\n",
       "</table>\n",
       "</div>"
      ],
      "text/plain": [
       "       Precip_avg\n",
       "count  365.000000\n",
       "mean     0.169987\n",
       "std      0.295722\n",
       "min      0.000000\n",
       "25%      0.008571\n",
       "50%      0.070000\n",
       "75%      0.191667\n",
       "max      2.380000"
      ]
     },
     "execution_count": 12,
     "metadata": {},
     "output_type": "execute_result"
    }
   ],
   "source": [
    "# Precipitation summary statistics for one year.\n",
    "precip_df.describe()"
   ]
  },
  {
   "cell_type": "markdown",
   "metadata": {},
   "source": [
    "## Temperature analysis: Summary stats and distribution of data from a single station"
   ]
  },
  {
   "cell_type": "code",
   "execution_count": 13,
   "metadata": {},
   "outputs": [
    {
     "name": "stdout",
     "output_type": "stream",
     "text": [
      "There are 9 stations in the Station dataset:\n",
      "\n",
      "1 USC00519397 WAIKIKI 717.2, HI US 21.2716 -157.8168 3.0\n",
      "2 USC00513117 KANEOHE 838.1, HI US 21.4234 -157.8015 14.6\n",
      "3 USC00514830 KUALOA RANCH HEADQUARTERS 886.9, HI US 21.5213 -157.8374 7.0\n",
      "4 USC00517948 PEARL CITY, HI US 21.3934 -157.9751 11.9\n",
      "5 USC00518838 UPPER WAHIAWA 874.3, HI US 21.4992 -158.0111 306.6\n",
      "6 USC00519523 WAIMANALO EXPERIMENTAL FARM, HI US 21.33556 -157.71139 19.5\n",
      "7 USC00519281 WAIHEE 837.5, HI US 21.45167 -157.84888999999998 32.9\n",
      "8 USC00511918 HONOLULU OBSERVATORY 702.2, HI US 21.3152 -157.9992 0.9\n",
      "9 USC00516128 MANOA LYON ARBO 785.2, HI US 21.3331 -157.8025 152.4\n"
     ]
    }
   ],
   "source": [
    "# Print number of stations, print Station table.\n",
    "print(\"There are \" + str(session.query(func.count(Station.id)).all()[0][0]) + \" stations in the Station dataset:\")\n",
    "print(\"\")\n",
    "result = session.query(Station)\n",
    "for row in result:\n",
    "    print(row.id, row.station, row.name, row.latitude, row.longitude, row.elevation)"
   ]
  },
  {
   "cell_type": "code",
   "execution_count": 14,
   "metadata": {},
   "outputs": [
    {
     "name": "stdout",
     "output_type": "stream",
     "text": [
      "('USC00519281', 2772)\n",
      "('USC00519397', 2724)\n",
      "('USC00513117', 2709)\n",
      "('USC00519523', 2669)\n",
      "('USC00516128', 2612)\n",
      "('USC00514830', 2202)\n",
      "('USC00511918', 1979)\n",
      "('USC00517948', 1372)\n",
      "('USC00518838', 511)\n",
      "\n",
      "Station USC00519281 has the highest number of observation days.\n"
     ]
    }
   ],
   "source": [
    "# Find the station with the most measurements by grouping the Measurement table by station, \n",
    "# aggregating to count, and sorting descending. This station should provide the most reliable\n",
    "# information about Hawaii weather.\n",
    "\n",
    "# Query\n",
    "result = session.query(Measurement.station, func.count(Measurement.station)).\\\n",
    "group_by(Measurement.station).order_by(func.count(Measurement.station).desc()).all()\n",
    "\n",
    "# Print result set.\n",
    "for row in result:\n",
    "    print(row)\n",
    "    \n",
    "print(\"\")\n",
    "\n",
    "# Extract first cell of first row.\n",
    "highest_number = result[0][0]\n",
    "\n",
    "print(\"Station \" + str(highest_number) + \" has the highest number of observation days.\")"
   ]
  },
  {
   "cell_type": "code",
   "execution_count": 15,
   "metadata": {},
   "outputs": [
    {
     "name": "stdout",
     "output_type": "stream",
     "text": [
      "Lowest temperature: 59.0 F\n",
      "Highest temperature: 83.0 F\n",
      "Average temperature: 73.1 F\n"
     ]
    }
   ],
   "source": [
    "# For the station with the most observations, print the lowest, highest, and average temperature\n",
    "# reported for the last year.\n",
    "lowest = session.query(func.min(Measurement.tobs)).filter(Measurement.station == highest_number).\\\n",
    "filter(Measurement.date >= year_ago)\n",
    "highest = session.query(func.max(Measurement.tobs)).filter(Measurement.station == highest_number).\\\n",
    "filter(Measurement.date >= year_ago)\n",
    "average = session.query(func.avg(Measurement.tobs)).filter(Measurement.station == highest_number).\\\n",
    "filter(Measurement.date >= year_ago)\n",
    "\n",
    "print(\"Lowest temperature: \" + str(lowest[0][0]) + \" F\")\n",
    "print(\"Highest temperature: \" + str(highest[0][0]) + \" F\")\n",
    "print(\"Average temperature: \" + str(round(average[0][0], 2)) + \" F\")"
   ]
  },
  {
   "cell_type": "code",
   "execution_count": 16,
   "metadata": {},
   "outputs": [
    {
     "data": {
      "text/html": [
       "<div>\n",
       "<style scoped>\n",
       "    .dataframe tbody tr th:only-of-type {\n",
       "        vertical-align: middle;\n",
       "    }\n",
       "\n",
       "    .dataframe tbody tr th {\n",
       "        vertical-align: top;\n",
       "    }\n",
       "\n",
       "    .dataframe thead th {\n",
       "        text-align: right;\n",
       "    }\n",
       "</style>\n",
       "<table border=\"1\" class=\"dataframe\">\n",
       "  <thead>\n",
       "    <tr style=\"text-align: right;\">\n",
       "      <th></th>\n",
       "      <th>tobs</th>\n",
       "    </tr>\n",
       "  </thead>\n",
       "  <tbody>\n",
       "    <tr>\n",
       "      <th>0</th>\n",
       "      <td>77.0</td>\n",
       "    </tr>\n",
       "    <tr>\n",
       "      <th>1</th>\n",
       "      <td>80.0</td>\n",
       "    </tr>\n",
       "    <tr>\n",
       "      <th>2</th>\n",
       "      <td>80.0</td>\n",
       "    </tr>\n",
       "    <tr>\n",
       "      <th>3</th>\n",
       "      <td>75.0</td>\n",
       "    </tr>\n",
       "    <tr>\n",
       "      <th>4</th>\n",
       "      <td>73.0</td>\n",
       "    </tr>\n",
       "  </tbody>\n",
       "</table>\n",
       "</div>"
      ],
      "text/plain": [
       "   tobs\n",
       "0  77.0\n",
       "1  80.0\n",
       "2  80.0\n",
       "3  75.0\n",
       "4  73.0"
      ]
     },
     "execution_count": 16,
     "metadata": {},
     "output_type": "execute_result"
    }
   ],
   "source": [
    "# For the station with the most observations, query the last year of temperature data.\n",
    "results = session.query(Measurement.tobs).filter(Measurement.station == highest_number).\\\n",
    "filter(Measurement.date >= year_ago).all()\n",
    "\n",
    "# Convert session.query object to Pandas DataFrame.\n",
    "temp_df = pd.DataFrame(results)\n",
    "\n",
    "temp_df.head()"
   ]
  },
  {
   "cell_type": "code",
   "execution_count": 17,
   "metadata": {
    "scrolled": true
   },
   "outputs": [
    {
     "data": {
      "image/png": "[encoded data removed]",
      "text/plain": [
       "<Figure size 432x288 with 1 Axes>"
      ]
     },
     "metadata": {},
     "output_type": "display_data"
    }
   ],
   "source": [
    "# Plot histogram of last year of temperature data for station with most observations.\n",
    "\n",
    "plt.hist(temp_df[\"tobs\"], bins = 12)\n",
    "plt.title(\"Distribution of Temperatures Over 1 Year in Hawaii - Perfection!\")\n",
    "plt.xlabel(\"Temperature - Fahrenheit\")\n",
    "plt.ylabel(\"Frequency - Days\")\n",
    "plt.show()"
   ]
  },
  {
   "cell_type": "code",
   "execution_count": 18,
   "metadata": {},
   "outputs": [
    {
     "name": "stdout",
     "output_type": "stream",
     "text": [
      "[(87.0, 53.0, 73.43127438710152)]\n"
     ]
    }
   ],
   "source": [
    "# This function, called `start_temps` accepts a start date in the format '%Y-%m-%d' \n",
    "# and returns the max, min, and average temperatures for all dates in the Measurement\n",
    "# table since the start date.\n",
    "def start_temps(start_date):\n",
    "    \"\"\"\n",
    "    Args:\n",
    "        start_date (string): A date string in the format %Y-%m-%d \n",
    "    Returns:\n",
    "        TMAX, TMIN, and TAVG\n",
    "    \"\"\"\n",
    "    return session.query(func.max(Measurement.tobs), func.min(Measurement.tobs), func.avg(Measurement.tobs)).\\\n",
    "        filter(Measurement.date >= start_date).all()\n",
    "\n",
    "# function usage example\n",
    "print(start_temps('2012-02-28'))"
   ]
  },
  {
   "cell_type": "code",
   "execution_count": 19,
   "metadata": {},
   "outputs": [
    {
     "name": "stdout",
     "output_type": "stream",
     "text": [
      "[(74.0, 62.0, 69.57142857142857)]\n"
     ]
    }
   ],
   "source": [
    "# This function, called `start_end_temps` accepts start and end dates in the format '%Y-%m-%d' \n",
    "# and returns the max, min, and average temperatures for all observations in the Measurement\n",
    "# table that fall within the date range.\n",
    "\n",
    "def start_end_temps(start_date, end_date):\n",
    "    \"\"\"\n",
    "    Args:\n",
    "        start_date (string): A date string in the format %Y-%m-%d\n",
    "        end_date (string): A date string in the format %Y-%m-%d \n",
    "    Returns:\n",
    "        TMAX, TMIN, and TAVG\n",
    "    \"\"\"\n",
    "    return session.query(func.max(Measurement.tobs), func.min(Measurement.tobs), func.avg(Measurement.tobs)).\\\n",
    "        filter(Measurement.date >= start_date).filter(Measurement.date <= end_date).all()\n",
    "\n",
    "# function usage example\n",
    "print(start_end_temps('2012-02-28', '2012-03-05'))"
   ]
  },
  {
   "cell_type": "markdown",
   "metadata": {},
   "source": [
    "## Compare average December and June temperatures"
   ]
  },
  {
   "cell_type": "code",
   "execution_count": 46,
   "metadata": {},
   "outputs": [
    {
     "data": {
      "text/html": [
       "<div>\n",
       "<style scoped>\n",
       "    .dataframe tbody tr th:only-of-type {\n",
       "        vertical-align: middle;\n",
       "    }\n",
       "\n",
       "    .dataframe tbody tr th {\n",
       "        vertical-align: top;\n",
       "    }\n",
       "\n",
       "    .dataframe thead th {\n",
       "        text-align: right;\n",
       "    }\n",
       "</style>\n",
       "<table border=\"1\" class=\"dataframe\">\n",
       "  <thead>\n",
       "    <tr style=\"text-align: right;\">\n",
       "      <th></th>\n",
       "      <th>month</th>\n",
       "      <th>tobs</th>\n",
       "    </tr>\n",
       "  </thead>\n",
       "  <tbody>\n",
       "    <tr>\n",
       "      <th>0</th>\n",
       "      <td>01</td>\n",
       "      <td>65.0</td>\n",
       "    </tr>\n",
       "    <tr>\n",
       "      <th>1</th>\n",
       "      <td>01</td>\n",
       "      <td>63.0</td>\n",
       "    </tr>\n",
       "    <tr>\n",
       "      <th>2</th>\n",
       "      <td>01</td>\n",
       "      <td>74.0</td>\n",
       "    </tr>\n",
       "    <tr>\n",
       "      <th>3</th>\n",
       "      <td>01</td>\n",
       "      <td>76.0</td>\n",
       "    </tr>\n",
       "    <tr>\n",
       "      <th>4</th>\n",
       "      <td>01</td>\n",
       "      <td>73.0</td>\n",
       "    </tr>\n",
       "  </tbody>\n",
       "</table>\n",
       "</div>"
      ],
      "text/plain": [
       "  month  tobs\n",
       "0    01  65.0\n",
       "1    01  63.0\n",
       "2    01  74.0\n",
       "3    01  76.0\n",
       "4    01  73.0"
      ]
     },
     "execution_count": 46,
     "metadata": {},
     "output_type": "execute_result"
    }
   ],
   "source": [
    "# Query months and temperatures from Measurement table and save in Pandas DataFrame.\n",
    "months_df = pd.read_sql(\"SELECT strftime('%m', date), tobs FROM Measurement\", conn)\n",
    "\n",
    "# Rename months column.\n",
    "months_df.rename(columns={\"strftime('%m', date)\":\"month\"}, inplace=True)\n",
    "\n",
    "months_df.head()"
   ]
  },
  {
   "cell_type": "code",
   "execution_count": 58,
   "metadata": {},
   "outputs": [
    {
     "name": "stdout",
     "output_type": "stream",
     "text": [
      "The average temperature in December is: 71.0 F\n"
     ]
    }
   ],
   "source": [
    "# Select December temperature observations.\n",
    "december_df = months_df.loc[months_df[\"month\"] == \"12\"]\n",
    "\n",
    "# Caclulate average temperature for all December dates in dataset.\n",
    "december_avg = december_df.mean()\n",
    "\n",
    "print(\"The average temperature in December is: \" + str(round(december_avg[\"tobs\"], 0)) + \" F\")"
   ]
  },
  {
   "cell_type": "code",
   "execution_count": 48,
   "metadata": {},
   "outputs": [
    {
     "name": "stdout",
     "output_type": "stream",
     "text": [
      "The average temperature in June is: 75.0 F\n"
     ]
    }
   ],
   "source": [
    "# Select June temperature observations.\n",
    "june_df = months_df.loc[months_df[\"month\"] == \"06\"]\n",
    "\n",
    "# Caclulate average temperature for all December dates in dataset.\n",
    "june_avg = june_df.mean()\n",
    "\n",
    "print(\"The average temperature in June is: \" + str(round(june_avg[\"tobs\"], 0)) + \" F\")"
   ]
  },
  {
   "cell_type": "code",
   "execution_count": 60,
   "metadata": {},
   "outputs": [
    {
     "name": "stdout",
     "output_type": "stream",
     "text": [
      "The December and June temperature observations are not statistically significantly different.\n"
     ]
    },
    {
     "data": {
      "text/plain": [
       "Ttest_indResult(statistic=-31.355036920962423, pvalue=4.193529835915755e-187)"
      ]
     },
     "execution_count": 60,
     "metadata": {},
     "output_type": "execute_result"
    }
   ],
   "source": [
    "# Perform independent t-test to decide if there is a statistically significant difference in temperature between December and June.\n",
    "# Using independent t-test because June and December temperature readings differ in many climatological ways and therefore can't\n",
    "# be considered repeated measurements on the same subjects.\n",
    "\n",
    "print(\"The December and June temperature observations are not statistically significantly different.\")\n",
    "import scipy.stats as stats\n",
    "stats.ttest_ind(december_df[\"tobs\"], june_df[\"tobs\"], equal_var=False)"
   ]
  }
 ],
 "metadata": {
  "kernel_info": {
   "name": "python3"
  },
  "kernelspec": {
   "display_name": "Python 3",
   "language": "python",
   "name": "python3"
  },
  "language_info": {
   "codemirror_mode": {
    "name": "ipython",
    "version": 3
   },
   "file_extension": ".py",
   "mimetype": "text/x-python",
   "name": "python",
   "nbconvert_exporter": "python",
   "pygments_lexer": "ipython3",
   "version": "3.8.3"
  },
  "nteract": {
   "version": "0.12.3"
  },
  "varInspector": {
   "cols": {
    "lenName": 16,
    "lenType": 16,
    "lenVar": 40
   },
   "kernels_config": {
    "python": {
     "delete_cmd_postfix": "",
     "delete_cmd_prefix": "del ",
     "library": "var_list.py",
     "varRefreshCmd": "print(var_dic_list())"
    },
    "r": {
     "delete_cmd_postfix": ") ",
     "delete_cmd_prefix": "rm(",
     "library": "var_list.r",
     "varRefreshCmd": "cat(var_dic_list()) "
    }
   },
   "types_to_exclude": [
    "module",
    "function",
    "builtin_function_or_method",
    "instance",
    "_Feature"
   ],
   "window_display": false
  }
 },
 "nbformat": 4,
 "nbformat_minor": 2
}
